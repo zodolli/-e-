{
 "cells": [
  {
   "cell_type": "markdown",
   "metadata": {},
   "source": [
    "#### 라이브러리 불러오기"
   ]
  },
  {
   "cell_type": "code",
   "execution_count": 20,
   "metadata": {},
   "outputs": [],
   "source": [
    "import pandas as pd\n",
    "import trafilatura\n",
    "from bs4 import BeautifulSoup\n",
    "import json\n",
    "from tqdm import tqdm"
   ]
  },
  {
   "cell_type": "markdown",
   "metadata": {},
   "source": [
    "#### 데이터 불러오기"
   ]
  },
  {
   "cell_type": "code",
   "execution_count": 7,
   "metadata": {},
   "outputs": [
    {
     "data": {
      "text/html": [
       "<div>\n",
       "<style scoped>\n",
       "    .dataframe tbody tr th:only-of-type {\n",
       "        vertical-align: middle;\n",
       "    }\n",
       "\n",
       "    .dataframe tbody tr th {\n",
       "        vertical-align: top;\n",
       "    }\n",
       "\n",
       "    .dataframe thead th {\n",
       "        text-align: right;\n",
       "    }\n",
       "</style>\n",
       "<table border=\"1\" class=\"dataframe\">\n",
       "  <thead>\n",
       "    <tr style=\"text-align: right;\">\n",
       "      <th></th>\n",
       "      <th>제목</th>\n",
       "      <th>링크</th>\n",
       "    </tr>\n",
       "  </thead>\n",
       "  <tbody>\n",
       "    <tr>\n",
       "      <th>0</th>\n",
       "      <td>\"KC인증이 능사 아냐…계속 모니터링 해야\"[中직구 안전성 논란④]</td>\n",
       "      <td>https://www.newsis.com/view/?id=NISX20240531_0...</td>\n",
       "    </tr>\n",
       "    <tr>\n",
       "      <th>1</th>\n",
       "      <td>중국 직구, 싸다고 덥석 구매하면 생명 위험!</td>\n",
       "      <td>https://www.sisamagazine.co.kr/news/articleVie...</td>\n",
       "    </tr>\n",
       "    <tr>\n",
       "      <th>2</th>\n",
       "      <td>[출근길 인터뷰] '발암물질 범벅' 해외 직구 상품…서울시 대책은?</td>\n",
       "      <td>http://www.yonhapnewstv.co.kr/MYH2024060300460...</td>\n",
       "    </tr>\n",
       "    <tr>\n",
       "      <th>3</th>\n",
       "      <td>'직구 금지' 철회한 정부, 유해물품 안전성 검증할 방법은</td>\n",
       "      <td>https://www.moneys.co.kr/article/2024053117523...</td>\n",
       "    </tr>\n",
       "    <tr>\n",
       "      <th>4</th>\n",
       "      <td>[테크왔숑] 늘어나는 해외직구에 신용카드 해킹 피해 급증···VPN으로 이중...</td>\n",
       "      <td>https://www.cnet.co.kr/view/?no=20240603113543</td>\n",
       "    </tr>\n",
       "  </tbody>\n",
       "</table>\n",
       "</div>"
      ],
      "text/plain": [
       "                                              제목  \\\n",
       "0          \"KC인증이 능사 아냐…계속 모니터링 해야\"[中직구 안전성 논란④]   \n",
       "1                      중국 직구, 싸다고 덥석 구매하면 생명 위험!   \n",
       "2          [출근길 인터뷰] '발암물질 범벅' 해외 직구 상품…서울시 대책은?   \n",
       "3               '직구 금지' 철회한 정부, 유해물품 안전성 검증할 방법은   \n",
       "4  [테크왔숑] 늘어나는 해외직구에 신용카드 해킹 피해 급증···VPN으로 이중...   \n",
       "\n",
       "                                                  링크  \n",
       "0  https://www.newsis.com/view/?id=NISX20240531_0...  \n",
       "1  https://www.sisamagazine.co.kr/news/articleVie...  \n",
       "2  http://www.yonhapnewstv.co.kr/MYH2024060300460...  \n",
       "3  https://www.moneys.co.kr/article/2024053117523...  \n",
       "4     https://www.cnet.co.kr/view/?no=20240603113543  "
      ]
     },
     "execution_count": 7,
     "metadata": {},
     "output_type": "execute_result"
    }
   ],
   "source": [
    "data = pd.read_csv('./data/크롤링_중국직구_이커머스_알테쉬.csv')\n",
    "data.head()"
   ]
  },
  {
   "cell_type": "code",
   "execution_count": 19,
   "metadata": {},
   "outputs": [
    {
     "name": "stdout",
     "output_type": "stream",
     "text": [
      "Requirement already satisfied: tqdm in c:\\users\\olili\\anaconda3\\envs\\techit\\lib\\site-packages (4.66.1)Note: you may need to restart the kernel to use updated packages.\n",
      "\n",
      "Requirement already satisfied: colorama in c:\\users\\olili\\anaconda3\\envs\\techit\\lib\\site-packages (from tqdm) (0.4.6)\n"
     ]
    }
   ],
   "source": [
    "#pip install tqdm"
   ]
  },
  {
   "cell_type": "markdown",
   "metadata": {},
   "source": [
    "### 트라필라투라 라이브러리로 본문 가져오기 "
   ]
  },
  {
   "cell_type": "code",
   "execution_count": 22,
   "metadata": {},
   "outputs": [
    {
     "name": "stderr",
     "output_type": "stream",
     "text": [
      "Crawling URLs:   0%|          | 0/5013 [00:00<?, ?it/s]"
     ]
    },
    {
     "name": "stderr",
     "output_type": "stream",
     "text": [
      "Crawling URLs: 100%|██████████| 5013/5013 [2:56:02<00:00,  2.11s/it]     "
     ]
    },
    {
     "name": "stdout",
     "output_type": "stream",
     "text": [
      "                                             title  \\\n",
      "0            \"KC인증이 능사 아냐…계속 모니터링 해야\"[中직구 안전성 논란④]   \n",
      "1           '직구 금지' 철회한 정부, 유해물품 안전성 검증할 방법은 - 머니S   \n",
      "2     [테크왔숑] 늘어나는 해외직구에 신용카드 해킹 피해 급증···VPN으로 이중잠금   \n",
      "3                         짝퉁 골프, 중국계 플랫폼 중고 시장서 활개   \n",
      "4                           中 초저가 직구 급증…항공운임도 고공행진   \n",
      "...                                            ...   \n",
      "4738         C커머스發 위기…쿠팡 \"'메이드 인 코리아'에 22조 통 큰 투자\"   \n",
      "4739       여객이 밀고 화물이 끌었다, 항공업계 1분기 실적 고공행진 | 중앙일보   \n",
      "4740                    장흥-중국 웨이하이 종합보세구 50만불 수출협약   \n",
      "4741                   티몬, 17일까지 ‘메가직구위크’…최대 60%할인   \n",
      "4742    [게시판] NHN커머스, 중국 쇼핑 플랫폼 '키타오'와 업무협약 | 연합뉴스   \n",
      "\n",
      "                                               raw_text        date  \\\n",
      "0     \"KC인증이 능사 아냐…계속 모니터링 해야\"[中직구 안전성 논란④]  \"발암물질 및...  2024-06-03   \n",
      "1     최근 정부가 해외 직구 규제 대책을 발표했다가 번복하면서 소비자 혼란이 가중되고 있...  2024-06-03   \n",
      "2     노드VPN의 다크 웹 모니터링·Double VPN 기능 통해 개인 정보 보호 철저 ...  2024-06-03   \n",
      "3     가품 골프용품 거래 현장 [자료=클럽하우스]  \\n 알리, 테무, 쉬인 등 최근 급...  2024-06-04   \n",
      "4     中 초저가 직구 급증…항공운임도 고공행진  3·4분기 해상화물 몰려 더 뛸 듯 2일...  2024-06-02   \n",
      "...                                                 ...         ...   \n",
      "4738  서울 시내의 쿠팡 캠프에서 배송 기사들이 배송준비 작업을 하고 있다. 2020.3....  2024-05-09   \n",
      "4739  대한항공이 1분기 매출 3조8000억원 이상을 기록하며 역대 1분기 중 최고 실적을...  2024-05-09   \n",
      "4740  전자상거래 활성화·물류루트 조성 \\r\\n신고면제·관세부과 유예 혜택 등 신고면제·관...  2024-04-28   \n",
      "4741  이번 기획전은 “모든 직구 티몬에서, 혜택도 메가! 상품도 메가!”라는 슬로건으로 ...  2024-03-11   \n",
      "4742  [게시판] NHN커머스, 중국 쇼핑 플랫폼 '키타오'와 업무협약  송고시간2023-...  2023-05-02   \n",
      "\n",
      "                                                    url  \n",
      "0     https://www.newsis.com/view/?id=NISX20240531_0...  \n",
      "1     https://www.moneys.co.kr/article/2024053117523...  \n",
      "2        https://www.cnet.co.kr/view/?no=20240603113543  \n",
      "3     http://jtbcgolf.joins.com/news/news_view.asp?n...  \n",
      "4        https://www.hankyung.com/article/2024060299621  \n",
      "...                                                 ...  \n",
      "4738              https://www.news1.kr/articles/5409495  \n",
      "4739        https://www.joongang.co.kr/article/25247993  \n",
      "4740  http://www.namdonews.com/news/articleView.html...  \n",
      "4741  http://www.edaily.co.kr/news/newspath.asp?news...  \n",
      "4742  https://www.yna.co.kr/view/AKR2023050205420001...  \n",
      "\n",
      "[4743 rows x 4 columns]\n"
     ]
    },
    {
     "name": "stderr",
     "output_type": "stream",
     "text": [
      "\n"
     ]
    }
   ],
   "source": [
    "# 결과를 저장할 빈 리스트\n",
    "news_list = []\n",
    "\n",
    "# tqdm을 사용하여 진행 상황을 표시\n",
    "for link in tqdm(data['링크'], desc=\"Crawling URLs\"):\n",
    "    html = trafilatura.fetch_url(link)\n",
    "    if html:\n",
    "        soup = BeautifulSoup(html, \"html.parser\")\n",
    "        \n",
    "        # 필요한 태그 삭제 (예시 코드에서 제공된 부분)\n",
    "        # soup.select_one(\".mid_title\").decompose()  # 필요한 경우 사용\n",
    "\n",
    "        result = trafilatura.extract(str(soup), output_format=\"json\")\n",
    "        if result:\n",
    "            result_dict = json.loads(result)\n",
    "            news_dict = {\n",
    "                'title': result_dict.get('title'),\n",
    "                'raw_text': result_dict.get('raw_text'),\n",
    "                'date': result_dict.get('date'),\n",
    "                'url': link\n",
    "            }\n",
    "            news_list.append(news_dict)\n",
    "\n",
    "# 결과 리스트를 데이터프레임으로 변환\n",
    "news = pd.DataFrame(news_list)\n",
    "\n",
    "print(news)"
   ]
  },
  {
   "cell_type": "code",
   "execution_count": 23,
   "metadata": {},
   "outputs": [
    {
     "data": {
      "text/html": [
       "<div>\n",
       "<style scoped>\n",
       "    .dataframe tbody tr th:only-of-type {\n",
       "        vertical-align: middle;\n",
       "    }\n",
       "\n",
       "    .dataframe tbody tr th {\n",
       "        vertical-align: top;\n",
       "    }\n",
       "\n",
       "    .dataframe thead th {\n",
       "        text-align: right;\n",
       "    }\n",
       "</style>\n",
       "<table border=\"1\" class=\"dataframe\">\n",
       "  <thead>\n",
       "    <tr style=\"text-align: right;\">\n",
       "      <th></th>\n",
       "      <th>title</th>\n",
       "      <th>raw_text</th>\n",
       "      <th>date</th>\n",
       "      <th>url</th>\n",
       "    </tr>\n",
       "  </thead>\n",
       "  <tbody>\n",
       "    <tr>\n",
       "      <th>0</th>\n",
       "      <td>\"KC인증이 능사 아냐…계속 모니터링 해야\"[中직구 안전성 논란④]</td>\n",
       "      <td>\"KC인증이 능사 아냐…계속 모니터링 해야\"[中직구 안전성 논란④]  \"발암물질 및...</td>\n",
       "      <td>2024-06-03</td>\n",
       "      <td>https://www.newsis.com/view/?id=NISX20240531_0...</td>\n",
       "    </tr>\n",
       "    <tr>\n",
       "      <th>1</th>\n",
       "      <td>'직구 금지' 철회한 정부, 유해물품 안전성 검증할 방법은 - 머니S</td>\n",
       "      <td>최근 정부가 해외 직구 규제 대책을 발표했다가 번복하면서 소비자 혼란이 가중되고 있...</td>\n",
       "      <td>2024-06-03</td>\n",
       "      <td>https://www.moneys.co.kr/article/2024053117523...</td>\n",
       "    </tr>\n",
       "    <tr>\n",
       "      <th>2</th>\n",
       "      <td>[테크왔숑] 늘어나는 해외직구에 신용카드 해킹 피해 급증···VPN으로 이중잠금</td>\n",
       "      <td>노드VPN의 다크 웹 모니터링·Double VPN 기능 통해 개인 정보 보호 철저 ...</td>\n",
       "      <td>2024-06-03</td>\n",
       "      <td>https://www.cnet.co.kr/view/?no=20240603113543</td>\n",
       "    </tr>\n",
       "    <tr>\n",
       "      <th>3</th>\n",
       "      <td>짝퉁 골프, 중국계 플랫폼 중고 시장서 활개</td>\n",
       "      <td>가품 골프용품 거래 현장 [자료=클럽하우스]  \\n 알리, 테무, 쉬인 등 최근 급...</td>\n",
       "      <td>2024-06-04</td>\n",
       "      <td>http://jtbcgolf.joins.com/news/news_view.asp?n...</td>\n",
       "    </tr>\n",
       "    <tr>\n",
       "      <th>4</th>\n",
       "      <td>中 초저가 직구 급증…항공운임도 고공행진</td>\n",
       "      <td>中 초저가 직구 급증…항공운임도 고공행진  3·4분기 해상화물 몰려 더 뛸 듯 2일...</td>\n",
       "      <td>2024-06-02</td>\n",
       "      <td>https://www.hankyung.com/article/2024060299621</td>\n",
       "    </tr>\n",
       "    <tr>\n",
       "      <th>...</th>\n",
       "      <td>...</td>\n",
       "      <td>...</td>\n",
       "      <td>...</td>\n",
       "      <td>...</td>\n",
       "    </tr>\n",
       "    <tr>\n",
       "      <th>4738</th>\n",
       "      <td>C커머스發 위기…쿠팡 \"'메이드 인 코리아'에 22조 통 큰 투자\"</td>\n",
       "      <td>서울 시내의 쿠팡 캠프에서 배송 기사들이 배송준비 작업을 하고 있다. 2020.3....</td>\n",
       "      <td>2024-05-09</td>\n",
       "      <td>https://www.news1.kr/articles/5409495</td>\n",
       "    </tr>\n",
       "    <tr>\n",
       "      <th>4739</th>\n",
       "      <td>여객이 밀고 화물이 끌었다, 항공업계 1분기 실적 고공행진 | 중앙일보</td>\n",
       "      <td>대한항공이 1분기 매출 3조8000억원 이상을 기록하며 역대 1분기 중 최고 실적을...</td>\n",
       "      <td>2024-05-09</td>\n",
       "      <td>https://www.joongang.co.kr/article/25247993</td>\n",
       "    </tr>\n",
       "    <tr>\n",
       "      <th>4740</th>\n",
       "      <td>장흥-중국 웨이하이 종합보세구 50만불 수출협약</td>\n",
       "      <td>전자상거래 활성화·물류루트 조성 \\r\\n신고면제·관세부과 유예 혜택 등 신고면제·관...</td>\n",
       "      <td>2024-04-28</td>\n",
       "      <td>http://www.namdonews.com/news/articleView.html...</td>\n",
       "    </tr>\n",
       "    <tr>\n",
       "      <th>4741</th>\n",
       "      <td>티몬, 17일까지 ‘메가직구위크’…최대 60%할인</td>\n",
       "      <td>이번 기획전은 “모든 직구 티몬에서, 혜택도 메가! 상품도 메가!”라는 슬로건으로 ...</td>\n",
       "      <td>2024-03-11</td>\n",
       "      <td>http://www.edaily.co.kr/news/newspath.asp?news...</td>\n",
       "    </tr>\n",
       "    <tr>\n",
       "      <th>4742</th>\n",
       "      <td>[게시판] NHN커머스, 중국 쇼핑 플랫폼 '키타오'와 업무협약 | 연합뉴스</td>\n",
       "      <td>[게시판] NHN커머스, 중국 쇼핑 플랫폼 '키타오'와 업무협약  송고시간2023-...</td>\n",
       "      <td>2023-05-02</td>\n",
       "      <td>https://www.yna.co.kr/view/AKR2023050205420001...</td>\n",
       "    </tr>\n",
       "  </tbody>\n",
       "</table>\n",
       "<p>4743 rows × 4 columns</p>\n",
       "</div>"
      ],
      "text/plain": [
       "                                             title  \\\n",
       "0            \"KC인증이 능사 아냐…계속 모니터링 해야\"[中직구 안전성 논란④]   \n",
       "1           '직구 금지' 철회한 정부, 유해물품 안전성 검증할 방법은 - 머니S   \n",
       "2     [테크왔숑] 늘어나는 해외직구에 신용카드 해킹 피해 급증···VPN으로 이중잠금   \n",
       "3                         짝퉁 골프, 중국계 플랫폼 중고 시장서 활개   \n",
       "4                           中 초저가 직구 급증…항공운임도 고공행진   \n",
       "...                                            ...   \n",
       "4738         C커머스發 위기…쿠팡 \"'메이드 인 코리아'에 22조 통 큰 투자\"   \n",
       "4739       여객이 밀고 화물이 끌었다, 항공업계 1분기 실적 고공행진 | 중앙일보   \n",
       "4740                    장흥-중국 웨이하이 종합보세구 50만불 수출협약   \n",
       "4741                   티몬, 17일까지 ‘메가직구위크’…최대 60%할인   \n",
       "4742    [게시판] NHN커머스, 중국 쇼핑 플랫폼 '키타오'와 업무협약 | 연합뉴스   \n",
       "\n",
       "                                               raw_text        date  \\\n",
       "0     \"KC인증이 능사 아냐…계속 모니터링 해야\"[中직구 안전성 논란④]  \"발암물질 및...  2024-06-03   \n",
       "1     최근 정부가 해외 직구 규제 대책을 발표했다가 번복하면서 소비자 혼란이 가중되고 있...  2024-06-03   \n",
       "2     노드VPN의 다크 웹 모니터링·Double VPN 기능 통해 개인 정보 보호 철저 ...  2024-06-03   \n",
       "3     가품 골프용품 거래 현장 [자료=클럽하우스]  \\n 알리, 테무, 쉬인 등 최근 급...  2024-06-04   \n",
       "4     中 초저가 직구 급증…항공운임도 고공행진  3·4분기 해상화물 몰려 더 뛸 듯 2일...  2024-06-02   \n",
       "...                                                 ...         ...   \n",
       "4738  서울 시내의 쿠팡 캠프에서 배송 기사들이 배송준비 작업을 하고 있다. 2020.3....  2024-05-09   \n",
       "4739  대한항공이 1분기 매출 3조8000억원 이상을 기록하며 역대 1분기 중 최고 실적을...  2024-05-09   \n",
       "4740  전자상거래 활성화·물류루트 조성 \\r\\n신고면제·관세부과 유예 혜택 등 신고면제·관...  2024-04-28   \n",
       "4741  이번 기획전은 “모든 직구 티몬에서, 혜택도 메가! 상품도 메가!”라는 슬로건으로 ...  2024-03-11   \n",
       "4742  [게시판] NHN커머스, 중국 쇼핑 플랫폼 '키타오'와 업무협약  송고시간2023-...  2023-05-02   \n",
       "\n",
       "                                                    url  \n",
       "0     https://www.newsis.com/view/?id=NISX20240531_0...  \n",
       "1     https://www.moneys.co.kr/article/2024053117523...  \n",
       "2        https://www.cnet.co.kr/view/?no=20240603113543  \n",
       "3     http://jtbcgolf.joins.com/news/news_view.asp?n...  \n",
       "4        https://www.hankyung.com/article/2024060299621  \n",
       "...                                                 ...  \n",
       "4738              https://www.news1.kr/articles/5409495  \n",
       "4739        https://www.joongang.co.kr/article/25247993  \n",
       "4740  http://www.namdonews.com/news/articleView.html...  \n",
       "4741  http://www.edaily.co.kr/news/newspath.asp?news...  \n",
       "4742  https://www.yna.co.kr/view/AKR2023050205420001...  \n",
       "\n",
       "[4743 rows x 4 columns]"
      ]
     },
     "execution_count": 23,
     "metadata": {},
     "output_type": "execute_result"
    }
   ],
   "source": [
    "news"
   ]
  },
  {
   "cell_type": "code",
   "execution_count": 24,
   "metadata": {},
   "outputs": [
    {
     "name": "stdout",
     "output_type": "stream",
     "text": [
      "<class 'pandas.core.frame.DataFrame'>\n",
      "RangeIndex: 4743 entries, 0 to 4742\n",
      "Data columns (total 4 columns):\n",
      " #   Column    Non-Null Count  Dtype \n",
      "---  ------    --------------  ----- \n",
      " 0   title     4743 non-null   object\n",
      " 1   raw_text  4743 non-null   object\n",
      " 2   date      4743 non-null   object\n",
      " 3   url       4743 non-null   object\n",
      "dtypes: object(4)\n",
      "memory usage: 148.3+ KB\n"
     ]
    }
   ],
   "source": [
    "#데이터프레임 정보 확인 \n",
    "news.info()"
   ]
  },
  {
   "cell_type": "code",
   "execution_count": 25,
   "metadata": {},
   "outputs": [],
   "source": [
    "#데이터프레임 csv형식으로 저장\n",
    "news.to_csv('news_이커머스_중국직구_알테쉬.csv', index=False, encoding='utf-8-sig')"
   ]
  },
  {
   "cell_type": "code",
   "execution_count": null,
   "metadata": {},
   "outputs": [],
   "source": []
  }
 ],
 "metadata": {
  "kernelspec": {
   "display_name": "Python 3 (ipykernel)",
   "language": "python",
   "name": "python3"
  },
  "language_info": {
   "codemirror_mode": {
    "name": "ipython",
    "version": 3
   },
   "file_extension": ".py",
   "mimetype": "text/x-python",
   "name": "python",
   "nbconvert_exporter": "python",
   "pygments_lexer": "ipython3",
   "version": "3.11.5"
  }
 },
 "nbformat": 4,
 "nbformat_minor": 4
}
